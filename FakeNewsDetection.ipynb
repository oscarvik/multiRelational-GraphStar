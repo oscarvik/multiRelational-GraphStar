{
 "cells": [
  {
   "cell_type": "markdown",
   "metadata": {},
   "source": [
    "# Detecting Fake News using Graph Neural Networksin Knowledge Graphs \n",
    "This notebook will be used to valuate the classification prerformance of our model. Be sure to have trained a model using the specific fake news dataset to ensure all entities have been \"observed\" and assigned an embedding. "
   ]
  },
  {
   "cell_type": "markdown",
   "metadata": {},
   "source": [
    "# LIAR\n",
    "## Step 1: Import triple extracted dataset"
   ]
  },
  {
   "cell_type": "code",
   "execution_count": 62,
   "metadata": {},
   "outputs": [
    {
     "name": "stdout",
     "output_type": "stream",
     "text": [
      "/people/person/employment_history./business/employment_tenure/title\n"
     ]
    },
    {
     "data": {
      "text/html": [
       "<div>\n",
       "<style scoped>\n",
       "    .dataframe tbody tr th:only-of-type {\n",
       "        vertical-align: middle;\n",
       "    }\n",
       "\n",
       "    .dataframe tbody tr th {\n",
       "        vertical-align: top;\n",
       "    }\n",
       "\n",
       "    .dataframe thead th {\n",
       "        text-align: right;\n",
       "    }\n",
       "</style>\n",
       "<table border=\"1\" class=\"dataframe\">\n",
       "  <thead>\n",
       "    <tr style=\"text-align: right;\">\n",
       "      <th></th>\n",
       "      <th>text_id</th>\n",
       "      <th>head</th>\n",
       "      <th>relation</th>\n",
       "      <th>tail</th>\n",
       "      <th>label</th>\n",
       "      <th>fb_head</th>\n",
       "      <th>fb_tail</th>\n",
       "    </tr>\n",
       "  </thead>\n",
       "  <tbody>\n",
       "    <tr>\n",
       "      <th>0</th>\n",
       "      <td>9524.json</td>\n",
       "      <td>Scott Walker</td>\n",
       "      <td>people/person/employment_history./business/emp...</td>\n",
       "      <td>governor</td>\n",
       "      <td>False</td>\n",
       "      <td>/m/04tzmt</td>\n",
       "      <td>/m/05pd99q</td>\n",
       "    </tr>\n",
       "  </tbody>\n",
       "</table>\n",
       "</div>"
      ],
      "text/plain": [
       "     text_id          head                                           relation  \\\n",
       "0  9524.json  Scott Walker  people/person/employment_history./business/emp...   \n",
       "\n",
       "       tail  label    fb_head     fb_tail  \n",
       "0  governor  False  /m/04tzmt  /m/05pd99q  "
      ]
     },
     "execution_count": 62,
     "metadata": {},
     "output_type": "execute_result"
    }
   ],
   "source": [
    "import pandas as pd\n",
    "#load test data\n",
    "LIAR = pd.read_csv(\n",
    "        \"./data/LIAR/test.csv\",\n",
    "        sep=\";\",\n",
    "        header=0,\n",
    "        engine=\"python\",\n",
    "        usecols = ['text_id', 'head', 'relation', 'tail', 'fb_head', 'fb_tail', 'label']\n",
    "\n",
    "    )\n",
    "\n",
    "\n",
    "heads = LIAR[\"fb_head\"]\n",
    "tails = LIAR[\"fb_tail\"]\n",
    "relations = LIAR[\"relation\"]\n",
    "\n",
    "relations = [\"/\" + rel for rel in relations]\n",
    "\n",
    "print(relations[0])\n",
    "\n",
    "\n",
    "LIAR.head(1)"
   ]
  },
  {
   "cell_type": "code",
   "execution_count": 63,
   "metadata": {},
   "outputs": [
    {
     "name": "stdout",
     "output_type": "stream",
     "text": [
      "no. unique entities (original): 14951\n",
      "no. unique entities in dataset: 155\n",
      "no. unseen entities in dataset: 108\n",
      "no. unique entities (updated): 15059\n"
     ]
    }
   ],
   "source": [
    "from os import path\n",
    "import numpy as np\n",
    "import torch\n",
    "#construct entity encoder with original and new entity ids\n",
    "entity_id = pd.read_csv('data/FB15k/entities.txt', sep='\\t', header=None, names=['entity', 'id'], engine='python')\n",
    "model_entities = entity_id['entity'].values\n",
    "print('no. unique entities (original):', len(model_entities))\n",
    "\n",
    "# add unseen entities from fake news dataset\n",
    "dataset_entities = np.concatenate([np.array(heads), np.array(tails)])\n",
    "dataset_entities =  np.unique(dataset_entities)\n",
    "print('no. unique entities in dataset:', len(dataset_entities))\n",
    "new_entities = np.array([ent for ent in dataset_entities if not ent in model_entities])\n",
    "print('no. unseen entities in dataset:', len(new_entities))\n",
    "\n",
    "all_entities = np.concatenate((model_entities, new_entities), axis=0)\n",
    "print('no. unique entities (updated):', len(all_entities))\n"
   ]
  },
  {
   "cell_type": "code",
   "execution_count": 64,
   "metadata": {},
   "outputs": [],
   "source": [
    "from sklearn.preprocessing import LabelEncoder\n",
    "\n",
    "# fit encoder\n",
    "le_entity = LabelEncoder()\n",
    "le_entity.classes_ = np.load(path.join('fn_embeddings','le_entity_classes_LIAR.npy'), allow_pickle=True)\n",
    "#load relation encoder\n",
    "le_relation = LabelEncoder()\n",
    "le_relation.classes_ = np.load(path.join('fn_embeddings','le_relation_classes_LIAR.npy'), allow_pickle=True)"
   ]
  },
  {
   "cell_type": "code",
   "execution_count": 65,
   "metadata": {},
   "outputs": [
    {
     "name": "stdout",
     "output_type": "stream",
     "text": [
      "le_relation test:  [1033]\n",
      "[1033]\n"
     ]
    }
   ],
   "source": [
    "test_rel = '/american_football/football_team/current_roster./sports/sports_team_roster/position'\n",
    "test_rel2 = '/people/person/employment_history./business/employment_tenure/title'\n",
    "print('le_relation test: ', le_relation.transform([test_rel2]))\n",
    "\n",
    "print(le_relation.transform([relations[3]]))"
   ]
  },
  {
   "cell_type": "code",
   "execution_count": 66,
   "metadata": {},
   "outputs": [],
   "source": [
    "#create torch_geometric Data object\n",
    "#edge_index = torch.tensor([le_heads, le_tails], dtype=torch.long)\n",
    "#edge_attributes = torch.tensor(le_relation.transform(relations), dtype=torch.long)\n",
    "#dataset = Data(x=le_entity.transform(all_entities), edge_type=edge_attributes, edge_index=edge_index)\n"
   ]
  },
  {
   "cell_type": "code",
   "execution_count": 67,
   "metadata": {},
   "outputs": [],
   "source": [
    "le_heads = le_entity.transform(heads)\n",
    "le_tails = le_entity.transform(tails)\n",
    "edge_index = torch.tensor([le_heads, le_tails], dtype=torch.long)\n",
    "\n",
    "le_relations = le_relation.transform(relations)\n",
    "edge_type = torch.tensor(le_relations, dtype=torch.long)"
   ]
  },
  {
   "cell_type": "code",
   "execution_count": 68,
   "metadata": {
    "scrolled": true
   },
   "outputs": [
    {
     "name": "stdout",
     "output_type": "stream",
     "text": [
      "no. true: 79\n",
      "no. false: 122\n"
     ]
    },
    {
     "data": {
      "text/plain": [
       "tensor([0, 0, 1, 0, 0, 1, 1, 0, 1, 1, 1, 0, 0, 0, 1, 1, 1, 1, 1, 0, 0, 0, 0, 0,\n",
       "        0, 0, 0, 0, 0, 0, 1, 1, 1, 1, 0, 0, 0, 1, 0, 0, 0, 0, 0, 0, 1, 1, 1, 0,\n",
       "        0, 0, 0, 0, 1, 0, 0, 0, 0, 0, 1, 1, 0, 0, 1, 1, 0, 0, 1, 0, 1, 0, 0, 0,\n",
       "        0, 0, 1, 1, 1, 0, 0, 0, 1, 1, 1, 0, 0, 1, 0, 1, 0, 0, 0, 0, 0, 0, 0, 0,\n",
       "        0, 0, 0, 0, 0, 0, 1, 1, 1, 1, 0, 1, 1, 1, 1, 1, 1, 1, 1, 1, 0, 1, 0, 1,\n",
       "        0, 0, 1, 0, 1, 0, 0, 0, 1, 0, 0, 1, 1, 0, 0, 0, 1, 1, 1, 0, 0, 1, 1, 0,\n",
       "        0, 0, 0, 0, 0, 1, 1, 0, 1, 1, 0, 0, 0, 0, 0, 1, 1, 0, 0, 0, 1, 1, 1, 0,\n",
       "        0, 0, 0, 0, 0, 1, 0, 0, 1, 0, 1, 1, 1, 1, 1, 0, 0, 0, 0, 0, 0, 0, 1, 1,\n",
       "        1, 0, 0, 0, 0, 0, 1, 0, 0])"
      ]
     },
     "execution_count": 68,
     "metadata": {},
     "output_type": "execute_result"
    }
   ],
   "source": [
    "# create and 'encode' lables\n",
    "raw_labels = np.array(LIAR[\"label\"])\n",
    "false = 0\n",
    "true = 0\n",
    "for l in raw_labels:\n",
    "    if l == False:\n",
    "        false += 1\n",
    "    else:\n",
    "        true += 1\n",
    "print('no. true:', true)\n",
    "print('no. false:', false)\n",
    "labels = torch.tensor([0 if l == False else 1 for l in raw_labels], dtype=torch.int64)\n",
    "labels"
   ]
  },
  {
   "cell_type": "markdown",
   "metadata": {},
   "source": [
    "## Step 2: Classify using Multi-Relational GraphStar model\n",
    "Use model pretrained with the entities of this specific fake news dataset."
   ]
  },
  {
   "cell_type": "code",
   "execution_count": 69,
   "metadata": {},
   "outputs": [],
   "source": [
    "# use env37test kernel\n",
    "import torch\n",
    "model = torch.load(\"output/FB15k_237_CPU_60epochs.pkl\", map_location=torch.device('cpu'))\n",
    "\n",
    "#model"
   ]
  },
  {
   "cell_type": "code",
   "execution_count": 70,
   "metadata": {},
   "outputs": [
    {
     "data": {
      "text/plain": [
       "torch.Size([15167, 256])"
      ]
     },
     "execution_count": 70,
     "metadata": {},
     "output_type": "execute_result"
    }
   ],
   "source": [
    "z = model.z\n",
    "z.size()"
   ]
  },
  {
   "cell_type": "code",
   "execution_count": 71,
   "metadata": {},
   "outputs": [
    {
     "name": "stdout",
     "output_type": "stream",
     "text": [
      "ap: 0.40816418350539074 , auc: 0.49927370823822376\n"
     ]
    }
   ],
   "source": [
    "\n",
    "pred = model.lp_score(z, edge_index, edge_type)\n",
    "lp_auc, lp_ap = model.lp_test(pred, labels)\n",
    "\n",
    "print('ap:', lp_ap, ', auc:', lp_auc)"
   ]
  },
  {
   "cell_type": "code",
   "execution_count": 72,
   "metadata": {},
   "outputs": [
    {
     "data": {
      "text/plain": [
       "<sklearn.metrics._plot.confusion_matrix.ConfusionMatrixDisplay at 0x7f7f48189a10>"
      ]
     },
     "execution_count": 72,
     "metadata": {},
     "output_type": "execute_result"
    },
    {
     "data": {
      "image/png": "[encoded data removed]",
      "text/plain": [
       "<Figure size 432x288 with 2 Axes>"
      ]
     },
     "metadata": {
      "needs_background": "light"
     },
     "output_type": "display_data"
    }
   ],
   "source": [
    "import matplotlib.pyplot as plt\n",
    "from sklearn.metrics import precision_score, confusion_matrix, ConfusionMatrixDisplay\n",
    "\n",
    "pred_classes = torch.tensor([0 if p < 0 else 1 for p in pred], dtype=torch.int64)\n",
    "\n",
    "cm = confusion_matrix(labels, pred_classes)\n",
    "\n",
    "disp = ConfusionMatrixDisplay(confusion_matrix=cm, display_labels=['false', 'true']) #usikker på rekkefølgen her\n",
    "disp.plot()"
   ]
  },
  {
   "cell_type": "code",
   "execution_count": 12,
   "metadata": {},
   "outputs": [
    {
     "data": {
      "text/html": [
       "<div>\n",
       "<style scoped>\n",
       "    .dataframe tbody tr th:only-of-type {\n",
       "        vertical-align: middle;\n",
       "    }\n",
       "\n",
       "    .dataframe tbody tr th {\n",
       "        vertical-align: top;\n",
       "    }\n",
       "\n",
       "    .dataframe thead th {\n",
       "        text-align: right;\n",
       "    }\n",
       "</style>\n",
       "<table border=\"1\" class=\"dataframe\">\n",
       "  <thead>\n",
       "    <tr style=\"text-align: right;\">\n",
       "      <th></th>\n",
       "      <th>text_id</th>\n",
       "      <th>head</th>\n",
       "      <th>relation</th>\n",
       "      <th>tail</th>\n",
       "      <th>label</th>\n",
       "      <th>fb_head</th>\n",
       "      <th>fb_tail</th>\n",
       "      <th>predicted_label</th>\n",
       "    </tr>\n",
       "  </thead>\n",
       "  <tbody>\n",
       "    <tr>\n",
       "      <th>50</th>\n",
       "      <td>2615.json</td>\n",
       "      <td>Lee Fisher</td>\n",
       "      <td>people/person/employment_history./business/emp...</td>\n",
       "      <td>Lieutenant governor</td>\n",
       "      <td>False</td>\n",
       "      <td>/m/034q8v</td>\n",
       "      <td>/m/0fkzq</td>\n",
       "      <td>True</td>\n",
       "    </tr>\n",
       "    <tr>\n",
       "      <th>51</th>\n",
       "      <td>592.json</td>\n",
       "      <td>United States Senate</td>\n",
       "      <td>organization/organization/headquarters./locati...</td>\n",
       "      <td>United States</td>\n",
       "      <td>False</td>\n",
       "      <td>/m/07t58</td>\n",
       "      <td>/m/09c7w0</td>\n",
       "      <td>False</td>\n",
       "    </tr>\n",
       "    <tr>\n",
       "      <th>52</th>\n",
       "      <td>12745.json</td>\n",
       "      <td>Barack Obama</td>\n",
       "      <td>people/person/employment_history./business/emp...</td>\n",
       "      <td>President of the United States</td>\n",
       "      <td>True</td>\n",
       "      <td>/m/02mjmr</td>\n",
       "      <td>/m/060d2</td>\n",
       "      <td>True</td>\n",
       "    </tr>\n",
       "    <tr>\n",
       "      <th>53</th>\n",
       "      <td>6386.json</td>\n",
       "      <td>Jon Runyan</td>\n",
       "      <td>people/person/employment_history./business/emp...</td>\n",
       "      <td>Member of Congress</td>\n",
       "      <td>False</td>\n",
       "      <td>/m/04q2pt</td>\n",
       "      <td>/m/01gkgk</td>\n",
       "      <td>True</td>\n",
       "    </tr>\n",
       "    <tr>\n",
       "      <th>54</th>\n",
       "      <td>8676.json</td>\n",
       "      <td>Rick Scott</td>\n",
       "      <td>people/person/employment_history./business/emp...</td>\n",
       "      <td>governor</td>\n",
       "      <td>False</td>\n",
       "      <td>/m/0btx2g</td>\n",
       "      <td>/m/05pd99q</td>\n",
       "      <td>True</td>\n",
       "    </tr>\n",
       "    <tr>\n",
       "      <th>55</th>\n",
       "      <td>8853.json</td>\n",
       "      <td>Barack Obama</td>\n",
       "      <td>people/person/employment_history./business/emp...</td>\n",
       "      <td>President of the United States</td>\n",
       "      <td>False</td>\n",
       "      <td>/m/02mjmr</td>\n",
       "      <td>/m/060d2</td>\n",
       "      <td>True</td>\n",
       "    </tr>\n",
       "    <tr>\n",
       "      <th>56</th>\n",
       "      <td>10208.json</td>\n",
       "      <td>Barack Obama</td>\n",
       "      <td>people/person/employment_history./business/emp...</td>\n",
       "      <td>President of the United States</td>\n",
       "      <td>False</td>\n",
       "      <td>/m/02mjmr</td>\n",
       "      <td>/m/060d2</td>\n",
       "      <td>True</td>\n",
       "    </tr>\n",
       "    <tr>\n",
       "      <th>57</th>\n",
       "      <td>11409.json</td>\n",
       "      <td>Charlie Dent</td>\n",
       "      <td>people/person/employment_history./business/emp...</td>\n",
       "      <td>Rep</td>\n",
       "      <td>False</td>\n",
       "      <td>/m/04fcm3</td>\n",
       "      <td>/m/07r8g3</td>\n",
       "      <td>True</td>\n",
       "    </tr>\n",
       "    <tr>\n",
       "      <th>58</th>\n",
       "      <td>12994.json</td>\n",
       "      <td>Bill Clinton</td>\n",
       "      <td>people/person/employment_history./business/emp...</td>\n",
       "      <td>Secretary</td>\n",
       "      <td>True</td>\n",
       "      <td>/m/0157m</td>\n",
       "      <td>/m/01fcnx</td>\n",
       "      <td>True</td>\n",
       "    </tr>\n",
       "    <tr>\n",
       "      <th>59</th>\n",
       "      <td>9891.json</td>\n",
       "      <td>Lorne Michaels</td>\n",
       "      <td>people/person/employment_history./business/emp...</td>\n",
       "      <td>Executive producer</td>\n",
       "      <td>True</td>\n",
       "      <td>/m/0p_2r</td>\n",
       "      <td>Executive producer</td>\n",
       "      <td>True</td>\n",
       "    </tr>\n",
       "  </tbody>\n",
       "</table>\n",
       "</div>"
      ],
      "text/plain": [
       "       text_id                  head  \\\n",
       "50   2615.json            Lee Fisher   \n",
       "51    592.json  United States Senate   \n",
       "52  12745.json          Barack Obama   \n",
       "53   6386.json            Jon Runyan   \n",
       "54   8676.json            Rick Scott   \n",
       "55   8853.json          Barack Obama   \n",
       "56  10208.json          Barack Obama   \n",
       "57  11409.json          Charlie Dent   \n",
       "58  12994.json          Bill Clinton   \n",
       "59   9891.json        Lorne Michaels   \n",
       "\n",
       "                                             relation  \\\n",
       "50  people/person/employment_history./business/emp...   \n",
       "51  organization/organization/headquarters./locati...   \n",
       "52  people/person/employment_history./business/emp...   \n",
       "53  people/person/employment_history./business/emp...   \n",
       "54  people/person/employment_history./business/emp...   \n",
       "55  people/person/employment_history./business/emp...   \n",
       "56  people/person/employment_history./business/emp...   \n",
       "57  people/person/employment_history./business/emp...   \n",
       "58  people/person/employment_history./business/emp...   \n",
       "59  people/person/employment_history./business/emp...   \n",
       "\n",
       "                              tail  label    fb_head             fb_tail  \\\n",
       "50             Lieutenant governor  False  /m/034q8v            /m/0fkzq   \n",
       "51                   United States  False   /m/07t58           /m/09c7w0   \n",
       "52  President of the United States   True  /m/02mjmr            /m/060d2   \n",
       "53              Member of Congress  False  /m/04q2pt           /m/01gkgk   \n",
       "54                        governor  False  /m/0btx2g          /m/05pd99q   \n",
       "55  President of the United States  False  /m/02mjmr            /m/060d2   \n",
       "56  President of the United States  False  /m/02mjmr            /m/060d2   \n",
       "57                             Rep  False  /m/04fcm3           /m/07r8g3   \n",
       "58                       Secretary   True   /m/0157m           /m/01fcnx   \n",
       "59              Executive producer   True   /m/0p_2r  Executive producer   \n",
       "\n",
       "    predicted_label  \n",
       "50             True  \n",
       "51            False  \n",
       "52             True  \n",
       "53             True  \n",
       "54             True  \n",
       "55             True  \n",
       "56             True  \n",
       "57             True  \n",
       "58             True  \n",
       "59             True  "
      ]
     },
     "execution_count": 12,
     "metadata": {},
     "output_type": "execute_result"
    }
   ],
   "source": [
    "predicted_raw_labels = [False if p == 0 else True for p in pred_classes]\n",
    "predicted_raw_labels\n",
    "LIAR['predicted_label'] = predicted_raw_labels\n",
    "\n",
    "LIAR[50:60]"
   ]
  },
  {
   "cell_type": "markdown",
   "metadata": {},
   "source": [
    "## Step 3: Dataset exploration\n",
    "We suspect some issues with classification performance stem from the quality of the LIAR RDF dataset. To futher understand the limitations of our model, we will try to explore what properties of the dataset make classification hard.  \n",
    "\n",
    "### Conflicting labels\n",
    "Identical triples may have been extracted from both true and false documents, meaning they will exist in our dataset with conflicting labels:"
   ]
  },
  {
   "cell_type": "code",
   "execution_count": 73,
   "metadata": {},
   "outputs": [
    {
     "name": "stdout",
     "output_type": "stream",
     "text": [
      "no. triples:  201\n"
     ]
    },
    {
     "data": {
      "text/plain": [
       "array([['/m/04tzmt',\n",
       "        '/people/person/employment_history./business/employment_tenure/title',\n",
       "        '/m/05pd99q']], dtype=object)"
      ]
     },
     "execution_count": 73,
     "metadata": {},
     "output_type": "execute_result"
    }
   ],
   "source": [
    "# create array of triples [[h,r,t], [h,r,t], [h,r,t], ...]\n",
    "triples = np.vstack((heads, relations, tails)).T\n",
    "print('no. triples: ', len(triples))\n",
    "triples[:1]"
   ]
  },
  {
   "cell_type": "code",
   "execution_count": 74,
   "metadata": {},
   "outputs": [
    {
     "name": "stdout",
     "output_type": "stream",
     "text": [
      "no. unique triples: 134\n"
     ]
    }
   ],
   "source": [
    "print('no. unique triples:', len(set([triple[0] + triple[1] + triple[2] for triple in triples])))"
   ]
  },
  {
   "cell_type": "code",
   "execution_count": 75,
   "metadata": {},
   "outputs": [],
   "source": [
    "triple_dict = {}\n",
    "conflicting_triples = []\n",
    "for i in range(len(triples)):\n",
    "    triple = tuple(triples[i])\n",
    "    if triple in triple_dict:    \n",
    "        if triple_dict[triple] != labels[i]:\n",
    "            conflicting_triples.append(triple)\n",
    "    else:\n",
    "        triple_dict[triple] = labels[i]\n",
    "conflicting_triples = set(conflicting_triples)"
   ]
  },
  {
   "cell_type": "code",
   "execution_count": 76,
   "metadata": {},
   "outputs": [
    {
     "name": "stdout",
     "output_type": "stream",
     "text": [
      "/m/0f8t6k /people/person/employment_history./business/employment_tenure/title /m/05pd99q\n",
      "/m/0271_s /people/person/employment_history./business/employment_tenure/title /m/05pd99q\n",
      "/m/02mjmr /people/person/employment_history./business/employment_tenure/title /m/048zv9l\n",
      "/m/0157m /people/person/employment_history./business/employment_tenure/title /m/060d2\n",
      "/m/04tzmt /people/person/employment_history./business/employment_tenure/title /m/05pd99q\n",
      "/m/02mjmr /people/person/employment_history./business/employment_tenure/title /m/060d2\n",
      "/m/01fwm3 /organization/role/leaders./organization/leadership/person /m/07t58\n",
      "\n",
      "no. uniqe triples associated with both labels: 7\n"
     ]
    }
   ],
   "source": [
    "for triple in conflicting_triples:\n",
    "    print(triple[0], triple[1], triple[2])\n",
    "\n",
    "print('\\nno. uniqe triples associated with both labels:', len(conflicting_triples))"
   ]
  },
  {
   "cell_type": "markdown",
   "metadata": {},
   "source": [
    "#### option 1: removing triples \n",
    "remove all triples included in label conflict"
   ]
  },
  {
   "cell_type": "code",
   "execution_count": 77,
   "metadata": {},
   "outputs": [
    {
     "name": "stdout",
     "output_type": "stream",
     "text": [
      "no. triples in cleaned dataset: 143\n"
     ]
    }
   ],
   "source": [
    "cleaned_triples = []\n",
    "cleaned_labels = []\n",
    "for i in range(len(triples)):\n",
    "    triple = triples[i]\n",
    "    triple = tuple(triple)\n",
    "    if triple not in conflicting_triples:\n",
    "        cleaned_triples.append(triple)\n",
    "        cleaned_labels.append(labels[i])\n",
    "print('no. triples in cleaned dataset:', len(cleaned_triples))\n",
    "\n",
    "cleaned_triples = np.array(cleaned_triples)\n",
    "cleaned_labels = torch.tensor(cleaned_labels, dtype=torch.int64)"
   ]
  },
  {
   "cell_type": "code",
   "execution_count": 78,
   "metadata": {},
   "outputs": [],
   "source": [
    "t = np.vsplit(cleaned_triples.T, 3)\n",
    "\n",
    "cleaned_heads = t[0].flatten()\n",
    "cleaned_relations = t[1].flatten()\n",
    "cleaned_tails = t[2].flatten()\n",
    "\n",
    "\n",
    "cleaned_le_heads = le_entity.transform(cleaned_heads)\n",
    "cleaned_le_tails = le_entity.transform(cleaned_tails)\n",
    "cleaned_edge_index = torch.tensor([cleaned_le_heads, cleaned_le_tails], dtype=torch.long)\n",
    "\n",
    "cleaned_le_relations = le_relation.transform(cleaned_relations)\n",
    "cleaned_edge_type = torch.tensor(cleaned_le_relations, dtype=torch.long)"
   ]
  },
  {
   "cell_type": "code",
   "execution_count": 80,
   "metadata": {},
   "outputs": [
    {
     "name": "stdout",
     "output_type": "stream",
     "text": [
      "ap: 0.40124318478274923 , auc: 0.47045454545454546\n"
     ]
    }
   ],
   "source": [
    "cleaned_pred = model.lp_score(z, cleaned_edge_index, cleaned_edge_type)\n",
    "lp_auc, lp_ap = model.lp_test(cleaned_pred, cleaned_labels)\n",
    "\n",
    "print('ap:', lp_ap, ', auc:', lp_auc)"
   ]
  },
  {
   "cell_type": "code",
   "execution_count": 81,
   "metadata": {},
   "outputs": [
    {
     "data": {
      "text/plain": [
       "tensor([ 15.7264,  20.5741,  13.8190,  14.3914,   7.0685,  15.9150,   6.6974,\n",
       "         15.0100,  13.5818,  13.0623, -10.5703,  15.8250,  15.0079,  15.0079,\n",
       "         21.1873,  15.0079,  13.4696,   6.5500,  15.8451,   6.5895,  15.8620,\n",
       "          9.0786,  15.7282,  13.8719,  16.3676,  16.3170,  16.1365,   0.1115,\n",
       "         14.6679,  20.6207,  15.8791,  15.8339,  -2.6281,  13.5036,  20.5372,\n",
       "         15.7612,  15.7553,  11.8745,  27.8678,  14.4203,  15.8517,  15.8877,\n",
       "         14.9755,   4.3363,  17.0142,  15.8395,  15.7869,   7.7396,  15.8315,\n",
       "         11.5955,  15.8912,  15.8711,  26.0412,   7.2123,   0.4710,  14.4164,\n",
       "         15.8731,  15.8581,  16.4693,   6.4843,   6.3987,  15.8082,  15.7058,\n",
       "          6.4677,   7.9754,   7.9754,  -1.7726,   6.0192,  -1.7726,  -1.7726,\n",
       "         14.2982,   7.8923,   7.8923,  15.7562,  15.7310,  14.8623,  13.4865,\n",
       "         15.6548,  15.6548,   3.4196,  28.1789,  15.8985,  20.5741,   6.7694,\n",
       "         14.5086,  15.8689,  15.7915,   6.3969,  27.6602,  15.8466,  15.8466,\n",
       "         10.2443,  16.4087,  16.4087,  -1.1832,   5.2127,  16.3929,  15.3436,\n",
       "         15.8921,  16.5208,  15.8947,  15.7964,  15.6279,  20.5090,  15.8354,\n",
       "          6.4793,  11.1237,  14.5073,  -2.6281,  12.3574,  16.4336,  15.7818,\n",
       "         15.0437,  16.5219,  15.8464,  15.7287,  16.6142,  15.9446,  16.5642,\n",
       "         16.3135,  16.3135,  15.7272,  10.5168,  14.3288,   4.3319,  15.6679,\n",
       "         14.4164,  15.6818,  15.6818,  15.7869,  15.8637,  16.4949,  16.0811,\n",
       "         13.8916,  16.0811,  16.5949,  15.8468,  15.8237,  -1.3501,  15.8692,\n",
       "         -1.4290,  15.8763,   2.9085], grad_fn=<SqueezeBackward1>)"
      ]
     },
     "execution_count": 81,
     "metadata": {},
     "output_type": "execute_result"
    }
   ],
   "source": [
    "cleaned_pred"
   ]
  },
  {
   "cell_type": "code",
   "execution_count": 82,
   "metadata": {},
   "outputs": [
    {
     "data": {
      "text/plain": [
       "tensor([1, 1, 1, 1, 1, 1, 1, 1, 1, 1, 0, 1, 1, 1, 1, 1, 1, 1, 1, 1, 1, 1, 1, 1,\n",
       "        1, 1, 1, 1, 1, 1, 1, 1, 0, 1, 1, 1, 1, 1, 1, 1, 1, 1, 1, 1, 1, 1, 1, 1,\n",
       "        1, 1, 1, 1, 1, 1, 1, 1, 1, 1, 1, 1, 1, 1, 1, 1, 1, 1, 0, 1, 0, 0, 1, 1,\n",
       "        1, 1, 1, 1, 1, 1, 1, 1, 1, 1, 1, 1, 1, 1, 1, 1, 1, 1, 1, 1, 1, 1, 0, 1,\n",
       "        1, 1, 1, 1, 1, 1, 1, 1, 1, 1, 1, 1, 0, 1, 1, 1, 1, 1, 1, 1, 1, 1, 1, 1,\n",
       "        1, 1, 1, 1, 1, 1, 1, 1, 1, 1, 1, 1, 1, 1, 1, 1, 1, 1, 0, 1, 0, 1, 1])"
      ]
     },
     "execution_count": 82,
     "metadata": {},
     "output_type": "execute_result"
    }
   ],
   "source": [
    "cleaned_pred_classes = torch.tensor([0 if p < 0 else 1 for p in cleaned_pred], dtype=torch.int64)\n",
    "cleaned_pred_classes"
   ]
  },
  {
   "cell_type": "code",
   "execution_count": 83,
   "metadata": {},
   "outputs": [
    {
     "data": {
      "text/plain": [
       "0.3880597014925373"
      ]
     },
     "execution_count": 83,
     "metadata": {},
     "output_type": "execute_result"
    }
   ],
   "source": [
    "precision_score(cleaned_labels, cleaned_pred_classes)"
   ]
  },
  {
   "cell_type": "code",
   "execution_count": 84,
   "metadata": {},
   "outputs": [
    {
     "data": {
      "text/plain": [
       "array([[ 6, 82],\n",
       "       [ 3, 52]])"
      ]
     },
     "execution_count": 84,
     "metadata": {},
     "output_type": "execute_result"
    }
   ],
   "source": [
    "cleaned_cm = confusion_matrix(cleaned_labels, cleaned_pred_classes)\n",
    "cleaned_cm"
   ]
  },
  {
   "cell_type": "code",
   "execution_count": 85,
   "metadata": {},
   "outputs": [
    {
     "data": {
      "text/plain": [
       "<sklearn.metrics._plot.confusion_matrix.ConfusionMatrixDisplay at 0x7f7f4e4136d0>"
      ]
     },
     "execution_count": 85,
     "metadata": {},
     "output_type": "execute_result"
    },
    {
     "data": {
      "image/png": "[encoded data removed]",
      "text/plain": [
       "<Figure size 432x288 with 2 Axes>"
      ]
     },
     "metadata": {
      "needs_background": "light"
     },
     "output_type": "display_data"
    }
   ],
   "source": [
    "disp = ConfusionMatrixDisplay(confusion_matrix=cleaned_cm, display_labels=['false', 'true']) #usikker på rekkefølgen her\n",
    "disp.plot()"
   ]
  },
  {
   "cell_type": "markdown",
   "metadata": {},
   "source": [
    "#### option 2: Manually change triple label of conflicting "
   ]
  },
  {
   "cell_type": "code",
   "execution_count": null,
   "metadata": {},
   "outputs": [],
   "source": []
  },
  {
   "cell_type": "markdown",
   "metadata": {},
   "source": [
    "### Dataset similarities to fb15k\n",
    "Many entities from the fake news datasets have not been seen in the original FB15k knowledge graph. How does this affetc the performance of the classification?"
   ]
  },
  {
   "cell_type": "code",
   "execution_count": 25,
   "metadata": {},
   "outputs": [
    {
     "name": "stdout",
     "output_type": "stream",
     "text": [
      "no. unique entities in fake news dataset: 155\n",
      "no. new entities in fake news dataset: 108\n"
     ]
    }
   ],
   "source": [
    "#\n",
    "print('no. unique entities in fake news dataset:', len(dataset_entities))\n",
    "print('no. new entities in fake news dataset:', len(new_entities))\n"
   ]
  },
  {
   "cell_type": "markdown",
   "metadata": {},
   "source": [
    "We observe that only 30% of entities in the fake news dataset are in the original FB15k knowledge graph.."
   ]
  },
  {
   "cell_type": "code",
   "execution_count": 26,
   "metadata": {},
   "outputs": [
    {
     "name": "stdout",
     "output_type": "stream",
     "text": [
      "no. triples with known entities: 61\n"
     ]
    }
   ],
   "source": [
    "known_triples = []\n",
    "known_labels = []\n",
    "for i in range(len(triples)):\n",
    "    triple = triples[i]\n",
    "    if triple[0] not in new_entities and triple[2] not in new_entities:\n",
    "        known_triples.append(tuple(triple))\n",
    "        known_labels.append(labels[i])\n",
    "print('no. triples with known entities:', len(known_triples))\n",
    "\n",
    "known_triples = np.array(known_triples)\n",
    "known_labels = torch.tensor(known_labels, dtype=torch.int64)"
   ]
  },
  {
   "cell_type": "code",
   "execution_count": 27,
   "metadata": {},
   "outputs": [],
   "source": [
    "kt = np.vsplit(known_triples.T, 3)\n",
    "\n",
    "known_heads = kt[0].flatten()\n",
    "known_relations = kt[1].flatten()\n",
    "known_tails = kt[2].flatten()\n",
    "\n",
    "\n",
    "known_le_heads = le_entity.transform(known_heads)\n",
    "known_le_tails = le_entity.transform(known_tails)\n",
    "known_edge_index = torch.tensor([known_le_heads, known_le_tails], dtype=torch.long)\n",
    "\n",
    "known_le_relations = le_relation.transform(known_relations)\n",
    "known_edge_type = torch.tensor(known_le_relations, dtype=torch.long)"
   ]
  },
  {
   "cell_type": "code",
   "execution_count": 28,
   "metadata": {},
   "outputs": [
    {
     "data": {
      "text/plain": [
       "tensor([[  137,  4792,   466,  4792,  4792,  4792,  4792, 10187,  4792,  4792,\n",
       "         10782,  4792,  4792, 10190,  4792,  4792,  4792,  4792,   466,  4792,\n",
       "          4792,  4792, 11775,  4792,  4792,  4792,  4792,  4792,  4792,  4792,\n",
       "          6589,  4792,  4792,  4792,  4792,  4792,  4792,  4792, 11187,  4792,\n",
       "          4792,  5627,  4792,  4792,  4792,  4792,  4792,  4792,  4792,  4792,\n",
       "          4792,  4792,  4792,  4792, 10807,  7185, 10807, 11999,  4792,  4792,\n",
       "          4792],\n",
       "        [10338,  9034,  9034,  9034,  9034,  9034,   819, 10807,  9034,  9034,\n",
       "          9034,  9034,  9034, 10807,  9034,  9034,  9034,  9034,  9034,  4583,\n",
       "          9034,  9034, 11945,  9034,  9034,  9034,  9034,  9034,  9034,  6589,\n",
       "          6817,  6589,  6589,  9034,  9034,  9034,  9034,  9034, 10807,  9034,\n",
       "          9034, 11226,  9034, 11944,  9034,  9034,  9034,  9034,  9034,  9034,\n",
       "          9034,  9034,  9034,  9034,  7185,  9034,  7185,  9034,  9034,  9034,\n",
       "         10807]])"
      ]
     },
     "execution_count": 28,
     "metadata": {},
     "output_type": "execute_result"
    }
   ],
   "source": [
    "known_edge_index"
   ]
  },
  {
   "cell_type": "code",
   "execution_count": 29,
   "metadata": {},
   "outputs": [
    {
     "data": {
      "text/plain": [
       "0.3673469387755102"
      ]
     },
     "execution_count": 29,
     "metadata": {},
     "output_type": "execute_result"
    }
   ],
   "source": [
    "known_pred = model.lp_score(z, known_edge_index, known_edge_type)\n",
    "known_pred_classes = torch.tensor([0 if p < 0 else 1 for p in known_pred], dtype=torch.int64)\n",
    "\n",
    "precision_score(known_labels, known_pred_classes)"
   ]
  },
  {
   "cell_type": "markdown",
   "metadata": {},
   "source": [
    "How about performance on triples with only unseen entities:"
   ]
  },
  {
   "cell_type": "code",
   "execution_count": 30,
   "metadata": {},
   "outputs": [
    {
     "name": "stdout",
     "output_type": "stream",
     "text": [
      "no. triples with known entities: 76\n"
     ]
    }
   ],
   "source": [
    "unknown_triples = []\n",
    "unknown_labels = []\n",
    "for i in range(len(triples)):\n",
    "    triple = triples[i]\n",
    "    if triple[0] in new_entities and triple[2] in new_entities:\n",
    "        unknown_triples.append(tuple(triple))\n",
    "        unknown_labels.append(labels[i])\n",
    "print('no. triples with known entities:', len(unknown_triples))\n",
    "\n",
    "unknown_triples = np.array(unknown_triples)\n",
    "unknown_labels = torch.tensor(unknown_labels, dtype=torch.int64)"
   ]
  },
  {
   "cell_type": "code",
   "execution_count": 31,
   "metadata": {},
   "outputs": [],
   "source": [
    "ukt = np.vsplit(unknown_triples.T, 3)\n",
    "\n",
    "unknown_heads = ukt[0].flatten()\n",
    "unknown_relations = ukt[1].flatten()\n",
    "unknown_tails = ukt[2].flatten()\n",
    "\n",
    "\n",
    "unknown_le_heads = le_entity.transform(unknown_heads)\n",
    "unknown_le_tails = le_entity.transform(unknown_tails)\n",
    "unknown_edge_index = torch.tensor([unknown_le_heads, unknown_le_tails], dtype=torch.long)\n",
    "\n",
    "unknown_le_relations = le_relation.transform(unknown_relations)\n",
    "unknown_edge_type = torch.tensor(unknown_le_relations, dtype=torch.long)"
   ]
  },
  {
   "cell_type": "code",
   "execution_count": 32,
   "metadata": {},
   "outputs": [
    {
     "data": {
      "text/plain": [
       "0.42105263157894735"
      ]
     },
     "execution_count": 32,
     "metadata": {},
     "output_type": "execute_result"
    }
   ],
   "source": [
    "unknown_pred = model.lp_score(z, unknown_edge_index, unknown_edge_type)\n",
    "unknown_pred_classes = torch.tensor([0 if p < 0 else 1 for p in unknown_pred], dtype=torch.int64)\n",
    "\n",
    "precision_score(unknown_labels, unknown_pred_classes)"
   ]
  },
  {
   "cell_type": "markdown",
   "metadata": {},
   "source": [
    "# Fake News Net\n",
    "## Step 1: Import triple extracted dataset"
   ]
  },
  {
   "cell_type": "code",
   "execution_count": 237,
   "metadata": {},
   "outputs": [
    {
     "data": {
      "text/html": [
       "<div>\n",
       "<style scoped>\n",
       "    .dataframe tbody tr th:only-of-type {\n",
       "        vertical-align: middle;\n",
       "    }\n",
       "\n",
       "    .dataframe tbody tr th {\n",
       "        vertical-align: top;\n",
       "    }\n",
       "\n",
       "    .dataframe thead th {\n",
       "        text-align: right;\n",
       "    }\n",
       "</style>\n",
       "<table border=\"1\" class=\"dataframe\">\n",
       "  <thead>\n",
       "    <tr style=\"text-align: right;\">\n",
       "      <th></th>\n",
       "      <th>head</th>\n",
       "      <th>relation</th>\n",
       "      <th>tail</th>\n",
       "      <th>fb_head</th>\n",
       "      <th>fb_tail</th>\n",
       "      <th>label</th>\n",
       "    </tr>\n",
       "    <tr>\n",
       "      <th>text_id</th>\n",
       "      <th></th>\n",
       "      <th></th>\n",
       "      <th></th>\n",
       "      <th></th>\n",
       "      <th></th>\n",
       "      <th></th>\n",
       "    </tr>\n",
       "  </thead>\n",
       "  <tbody>\n",
       "    <tr>\n",
       "      <th>415</th>\n",
       "      <td>William H. Seward</td>\n",
       "      <td>organization/role/leaders./organization/leader...</td>\n",
       "      <td>Republican Party</td>\n",
       "      <td>/m/0k_2z</td>\n",
       "      <td>/m/085srz</td>\n",
       "      <td>True</td>\n",
       "    </tr>\n",
       "    <tr>\n",
       "      <th>415</th>\n",
       "      <td>John Tyler</td>\n",
       "      <td>people/person/employment_history./business/emp...</td>\n",
       "      <td>President of the United States</td>\n",
       "      <td>/m/042dk</td>\n",
       "      <td>/m/02mjmr</td>\n",
       "      <td>True</td>\n",
       "    </tr>\n",
       "    <tr>\n",
       "      <th>415</th>\n",
       "      <td>Donald Trump</td>\n",
       "      <td>people/person/employment_history./business/emp...</td>\n",
       "      <td>President of the United States</td>\n",
       "      <td>/m/0cqt90</td>\n",
       "      <td>/m/02mjmr</td>\n",
       "      <td>True</td>\n",
       "    </tr>\n",
       "    <tr>\n",
       "      <th>415</th>\n",
       "      <td>Hillary Clinton</td>\n",
       "      <td>people/person/employment_history./business/emp...</td>\n",
       "      <td>President of the United States</td>\n",
       "      <td>/m/0d06m5</td>\n",
       "      <td>/m/02mjmr</td>\n",
       "      <td>True</td>\n",
       "    </tr>\n",
       "    <tr>\n",
       "      <th>416</th>\n",
       "      <td>Donald Trump</td>\n",
       "      <td>people/person/employment_history./business/emp...</td>\n",
       "      <td>King</td>\n",
       "      <td>/m/0cqt90</td>\n",
       "      <td>/m/03w9bnr</td>\n",
       "      <td>True</td>\n",
       "    </tr>\n",
       "  </tbody>\n",
       "</table>\n",
       "</div>"
      ],
      "text/plain": [
       "                      head                                           relation  \\\n",
       "text_id                                                                         \n",
       "415      William H. Seward  organization/role/leaders./organization/leader...   \n",
       "415             John Tyler  people/person/employment_history./business/emp...   \n",
       "415           Donald Trump  people/person/employment_history./business/emp...   \n",
       "415        Hillary Clinton  people/person/employment_history./business/emp...   \n",
       "416           Donald Trump  people/person/employment_history./business/emp...   \n",
       "\n",
       "                                   tail    fb_head     fb_tail  label  \n",
       "text_id                                                                \n",
       "415                    Republican Party   /m/0k_2z   /m/085srz   True  \n",
       "415      President of the United States   /m/042dk   /m/02mjmr   True  \n",
       "415      President of the United States  /m/0cqt90   /m/02mjmr   True  \n",
       "415      President of the United States  /m/0d06m5   /m/02mjmr   True  \n",
       "416                                King  /m/0cqt90  /m/03w9bnr   True  "
      ]
     },
     "execution_count": 237,
     "metadata": {},
     "output_type": "execute_result"
    }
   ],
   "source": [
    "#load test data\n",
    "FNN = pd.read_csv(\n",
    "        \"./data/FakeNewsNet/train.csv\",\n",
    "        sep=\",\",\n",
    "        header=0,\n",
    "        engine=\"python\",\n",
    "        index_col=0\n",
    "    )\n",
    "\n",
    "FNN = FNN.set_index('text_id')\n",
    "\n",
    "FNN.tail(5)"
   ]
  },
  {
   "cell_type": "code",
   "execution_count": 238,
   "metadata": {},
   "outputs": [
    {
     "data": {
      "text/plain": [
       "'/organization/role/leaders./organization/leadership/person'"
      ]
     },
     "execution_count": 238,
     "metadata": {},
     "output_type": "execute_result"
    }
   ],
   "source": [
    "heads = FNN[\"fb_head\"]\n",
    "tails = FNN[\"fb_tail\"]\n",
    "relations = FNN[\"relation\"]\n",
    "\n",
    "relations = [\"/\" + rel for rel in relations]\n",
    "\n",
    "relations[0]"
   ]
  },
  {
   "cell_type": "code",
   "execution_count": 239,
   "metadata": {},
   "outputs": [
    {
     "name": "stdout",
     "output_type": "stream",
     "text": [
      "no. unique entities (original): 14951\n",
      "no. unique entities in dataset: 682\n",
      "no. unseen entities in dataset: 542\n",
      "no. unique entities (updated): 15493\n",
      "True\n"
     ]
    }
   ],
   "source": [
    "#construct entity encoder with original and new entity ids\n",
    "entity_id = pd.read_csv('data/FB15k/entities.txt', sep='\\t', header=None, names=['entity', 'id'], engine='python')\n",
    "model_entities = entity_id['entity'].values\n",
    "print('no. unique entities (original):', len(model_entities))\n",
    "\n",
    "# add unseen entities from fake news dataset\n",
    "dataset_entities = np.concatenate([np.array(heads), np.array(tails)])\n",
    "dataset_entities =  np.unique(dataset_entities)\n",
    "print('no. unique entities in dataset:', len(dataset_entities))\n",
    "new_entities = np.array([ent for ent in dataset_entities if not ent in model_entities])\n",
    "print('no. unseen entities in dataset:', len(new_entities))\n",
    "\n",
    "all_entities = np.concatenate((model_entities, new_entities), axis=0)\n",
    "print('no. unique entities (updated):', len(all_entities))\n",
    "\n",
    "print('/m/01fnkt' in new_entities)"
   ]
  },
  {
   "cell_type": "code",
   "execution_count": 240,
   "metadata": {},
   "outputs": [],
   "source": [
    "# fit encoder\n",
    "le_entity_fnn = LabelEncoder()\n",
    "le_entity_fnn.classes_ = np.load(path.join('fn_embeddings','le_entity_classes.npy'), allow_pickle=True)\n",
    "#load relation encoder\n",
    "le_relation_fnn = LabelEncoder()\n",
    "le_relation_fnn.classes_ = np.load(path.join('fn_embeddings','le_relation_classes.npy'), allow_pickle=True)"
   ]
  },
  {
   "cell_type": "code",
   "execution_count": 241,
   "metadata": {},
   "outputs": [
    {
     "data": {
      "text/plain": [
       "array([1577])"
      ]
     },
     "execution_count": 241,
     "metadata": {},
     "output_type": "execute_result"
    }
   ],
   "source": [
    "le_entity_fnn.transform(['/m/01fnkt'])"
   ]
  },
  {
   "cell_type": "code",
   "execution_count": 242,
   "metadata": {},
   "outputs": [],
   "source": [
    "le_heads = le_entity_fnn.transform(heads)\n",
    "le_tails = le_entity_fnn.transform(tails)\n",
    "edge_index = torch.tensor([le_heads, le_tails], dtype=torch.long)\n",
    "\n",
    "le_relations = le_relation_fnn.transform(relations)\n",
    "edge_type = torch.tensor(le_relations, dtype=torch.long)"
   ]
  },
  {
   "cell_type": "code",
   "execution_count": 243,
   "metadata": {},
   "outputs": [
    {
     "name": "stdout",
     "output_type": "stream",
     "text": [
      "no. true: 589\n",
      "no. false: 411\n"
     ]
    }
   ],
   "source": [
    "# create and 'encode' lables\n",
    "raw_labels = np.array(FNN[\"label\"])\n",
    "false = 0\n",
    "true = 0\n",
    "for l in raw_labels:\n",
    "    if l == False:\n",
    "        false += 1\n",
    "    else:\n",
    "        true += 1\n",
    "print('no. true:', true)\n",
    "print('no. false:', false)\n",
    "labels = torch.tensor([0 if l == False else 1 for l in raw_labels], dtype=torch.int64)"
   ]
  },
  {
   "cell_type": "code",
   "execution_count": 252,
   "metadata": {},
   "outputs": [
    {
     "data": {
      "text/plain": [
       "torch.Size([16035, 256])"
      ]
     },
     "execution_count": 252,
     "metadata": {},
     "output_type": "execute_result"
    }
   ],
   "source": [
    "model = torch.load(\"output/FB15k_237_CPU_20epochs.pkl\", map_location=torch.device('cpu'))\n",
    "\n",
    "model.z.shape"
   ]
  },
  {
   "cell_type": "code",
   "execution_count": 253,
   "metadata": {},
   "outputs": [],
   "source": [
    "pred = model.lp_score(model.z, edge_index, edge_type)\n",
    "pred_classes = torch.tensor([0 if p < 0 else 1 for p in pred], dtype=torch.int64)\n",
    "\n",
    "cm = confusion_matrix(labels, pred_classes)"
   ]
  },
  {
   "cell_type": "code",
   "execution_count": 254,
   "metadata": {},
   "outputs": [
    {
     "data": {
      "text/plain": [
       "<sklearn.metrics._plot.confusion_matrix.ConfusionMatrixDisplay at 0x7f7efec8c490>"
      ]
     },
     "execution_count": 254,
     "metadata": {},
     "output_type": "execute_result"
    },
    {
     "data": {
      "image/png": "[encoded data removed]",
      "text/plain": [
       "<Figure size 432x288 with 2 Axes>"
      ]
     },
     "metadata": {
      "needs_background": "light"
     },
     "output_type": "display_data"
    }
   ],
   "source": [
    "disp = ConfusionMatrixDisplay(confusion_matrix=cm, display_labels=['false', 'true']) #usikker på rekkefølgen her\n",
    "disp.plot()"
   ]
  },
  {
   "cell_type": "code",
   "execution_count": 255,
   "metadata": {},
   "outputs": [
    {
     "name": "stdout",
     "output_type": "stream",
     "text": [
      "Triple validity prediction vs its documents label: 0.5933333333333334\n"
     ]
    }
   ],
   "source": [
    "triple_classification_acc = precision_score(labels, pred_classes)\n",
    "\n",
    "print('Triple validity prediction vs its documents label:', triple_classification_acc)"
   ]
  },
  {
   "cell_type": "markdown",
   "metadata": {},
   "source": [
    "## Document classification\n",
    "The fist strategy will be to assign the lable 'False' to a document as long as one false triple was observed in it.."
   ]
  },
  {
   "cell_type": "code",
   "execution_count": 256,
   "metadata": {},
   "outputs": [
    {
     "data": {
      "text/plain": [
       "(280,)"
      ]
     },
     "execution_count": 256,
     "metadata": {},
     "output_type": "execute_result"
    }
   ],
   "source": [
    "text_pred_dict = {}\n",
    "for i in range(edge_index.shape[1]):\n",
    "    text_id = FNN.index[i]\n",
    "    pred_class = pred_classes[i]\n",
    "    if text_id in text_pred_dict:\n",
    "        if pred_class == 0:\n",
    "            text_pred_dict[text_id] = pred_class\n",
    "    else:\n",
    "        text_pred_dict[text_id] = pred_class\n",
    "        \n",
    "pred_text_labels = np.array(list(text_pred_dict.values())).flatten()\n",
    "pred_text_labels.shape"
   ]
  },
  {
   "cell_type": "code",
   "execution_count": 257,
   "metadata": {},
   "outputs": [
    {
     "name": "stdout",
     "output_type": "stream",
     "text": [
      "Percentage of true documents: 0.5321428571428571\n"
     ]
    }
   ],
   "source": [
    "text_labels = FNN.groupby('text_id').mean().values.flatten()\n",
    "\n",
    "print('Percentage of true documents:', text_labels.mean())"
   ]
  },
  {
   "cell_type": "code",
   "execution_count": 258,
   "metadata": {},
   "outputs": [
    {
     "data": {
      "text/plain": [
       "0.5228758169934641"
      ]
     },
     "execution_count": 258,
     "metadata": {},
     "output_type": "execute_result"
    }
   ],
   "source": [
    "precision_score(text_labels, pred_text_labels)"
   ]
  },
  {
   "cell_type": "code",
   "execution_count": 251,
   "metadata": {},
   "outputs": [
    {
     "data": {
      "text/plain": [
       "<sklearn.metrics._plot.confusion_matrix.ConfusionMatrixDisplay at 0x7f7f7b8de110>"
      ]
     },
     "execution_count": 251,
     "metadata": {},
     "output_type": "execute_result"
    },
    {
     "data": {
      "image/png": "[encoded data removed]",
      "text/plain": [
       "<Figure size 432x288 with 2 Axes>"
      ]
     },
     "metadata": {
      "needs_background": "light"
     },
     "output_type": "display_data"
    }
   ],
   "source": [
    "text_cm = confusion_matrix(text_labels, pred_text_labels)\n",
    "text_disp = ConfusionMatrixDisplay(confusion_matrix=text_cm, display_labels=['false', 'true']) #usikker på rekkefølgen her\n",
    "text_disp.plot()"
   ]
  },
  {
   "cell_type": "code",
   "execution_count": 236,
   "metadata": {},
   "outputs": [],
   "source": []
  },
  {
   "cell_type": "code",
   "execution_count": null,
   "metadata": {},
   "outputs": [],
   "source": []
  }
 ],
 "metadata": {
  "kernelspec": {
   "display_name": "env37test",
   "language": "python",
   "name": "env37test"
  },
  "language_info": {
   "codemirror_mode": {
    "name": "ipython",
    "version": 3
   },
   "file_extension": ".py",
   "mimetype": "text/x-python",
   "name": "python",
   "nbconvert_exporter": "python",
   "pygments_lexer": "ipython3",
   "version": "3.7.5"
  }
 },
 "nbformat": 4,
 "nbformat_minor": 4
}
